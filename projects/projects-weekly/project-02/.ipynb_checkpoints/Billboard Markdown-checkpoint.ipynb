{
 "cells": [
  {
   "cell_type": "markdown",
   "metadata": {},
   "source": [
    "Billboard Methodology\n",
    "\n",
    "Billboard Magazine's \"Hot 100\" has been the barometer for what the most popular music in the coutry is for decades, making it a readily available measurement of \"what we like\" in music.\n",
    "\n",
    "Billboard's methodology has always included a combination of radio play and sales but over time the way these things were defined and collected changed which begs the question:\n",
    "    \n",
    "If the basis of measurement for what we like changes over time, then before we can consider the impact of the qualities of specific entries (e.g. artist gender, song genre, duration, seasonality, etc.) we need to consider the impact of the system itself.\n",
    "    \n",
    "The initial question for this assignment was about the songs most popular in 2000 so my initial focus was on the impact of changes made in December of 1998:\n",
    "    - Additional radio formats, including R&B, mainstream rock, AAA, and country, were added to data collection\n",
    "    - Weighting of sales in the calculation was cut from 40% to 25%\n",
    "    - Songs unavailable for sale as singles would now be included.\n",
    "    \n",
    "This last item might sound like a throw-away, but record labels had taken to distributing songs to radio stations and not put them up for sale until after they had gotten very popular. The song would then debut on the Hot 100 very high in the ranks, if not at #1, after which they would decline quickly since listener fatigue would already have set in.\n",
    "\n",
    "Theoretically these changes should have resulted in a decrease in the average debut rank and a lengthening of the duration of songs on the charts.\n",
    "\n",
    "While the scope of this paper is on the potential impact of methodological changes on the chart from a high level, it should be noted that individual entries could be outliers, skewing the data.\n",
    "\n",
    "\n"
   ]
  },
  {
   "cell_type": "markdown",
   "metadata": {},
   "source": [
    "Data collection, import, and cleaning:\n",
    "    \n",
    "a. An Internet search uncovered this database of the Billboard Hot 100 from 1940-2015 http://bit.ly/2dao3Yn\n",
    "    \n",
    "b. Converted txt file to csv using code found on Stack Overflow. \n",
    "\n",
    "c. Reformated a \"chart date\" column to only reflect the year.\n",
    "\n",
    "d. Converted a Python list of lists to a Pandas dataFrame.\n",
    "\n",
    "e. Converted appropriate columns of data to numeric dtype."
   ]
  },
  {
   "cell_type": "markdown",
   "metadata": {},
   "source": [
    "Data analysis:\n",
    "\n",
    "a. Created a pivot table showing the mean, min, and max for entry position and overall weeks on the chart. \n",
    "\n",
    "b. Created line charts based on \n",
    "    1. mean and max number of weeks on the chart per year\n",
    "    2. mean and min entry position on the chart per year\n",
    "    3. number of artists represented on the chart per year\n",
    "\n",
    "c. Data immediately made it clear that there were other major shifting points in chart performance. Exploration revealed additional major changes in methodology in recent years:\n",
    "    1991: Data collection moves from reports submitted by radio stations and retailers to observed airplay via electronic monitoring of radio stations in 85 markets and actual sales records, both collected by Nielsen.\n",
    "    \n",
    "    2005: Electronic transactions (e.g. buying songs from iTunes) were added to the methodology.\n",
    "    \n",
    "    2007: Streaming and on-demand music was added to the methodology.\n",
    "    \n",
    "    2013: Official videos and authorized audio on YouTube added to the methodology."
   ]
  },
  {
   "cell_type": "code",
   "execution_count": 1,
   "metadata": {
    "collapsed": false
   },
   "outputs": [
    {
     "ename": "NameError",
     "evalue": "name 'df' is not defined",
     "output_type": "error",
     "traceback": [
      "\u001b[0;31m---------------------------------------------------------------------------\u001b[0m",
      "\u001b[0;31mNameError\u001b[0m                                 Traceback (most recent call last)",
      "\u001b[0;32m<ipython-input-1-e7e2fdbdf197>\u001b[0m in \u001b[0;36m<module>\u001b[0;34m()\u001b[0m\n\u001b[0;32m----> 1\u001b[0;31m \u001b[0mUnArt\u001b[0m \u001b[0;34m=\u001b[0m \u001b[0mdf\u001b[0m\u001b[0;34m.\u001b[0m\u001b[0mgroupby\u001b[0m\u001b[0;34m(\u001b[0m\u001b[0;34m'year'\u001b[0m\u001b[0;34m)\u001b[0m\u001b[0;34m[\u001b[0m\u001b[0;34m'artist'\u001b[0m\u001b[0;34m]\u001b[0m\u001b[0;34m.\u001b[0m\u001b[0mnunique\u001b[0m\u001b[0;34m(\u001b[0m\u001b[0;34m)\u001b[0m\u001b[0;34m.\u001b[0m\u001b[0mto_frame\u001b[0m\u001b[0;34m(\u001b[0m\u001b[0;34m)\u001b[0m\u001b[0;34m\u001b[0m\u001b[0m\n\u001b[0m\u001b[1;32m      2\u001b[0m \u001b[0mUnArt\u001b[0m\u001b[0;34m.\u001b[0m\u001b[0miloc\u001b[0m\u001b[0;34m[\u001b[0m\u001b[0;36m45\u001b[0m\u001b[0;34m:\u001b[0m\u001b[0;36m75\u001b[0m\u001b[0;34m]\u001b[0m\u001b[0;34m.\u001b[0m\u001b[0mplot\u001b[0m\u001b[0;34m(\u001b[0m\u001b[0mfigsize\u001b[0m\u001b[0;34m=\u001b[0m\u001b[0;34m(\u001b[0m\u001b[0;36m15\u001b[0m\u001b[0;34m,\u001b[0m\u001b[0;36m8\u001b[0m\u001b[0;34m)\u001b[0m\u001b[0;34m,\u001b[0m \u001b[0mfontsize\u001b[0m\u001b[0;34m=\u001b[0m\u001b[0;36m14\u001b[0m\u001b[0;34m)\u001b[0m\u001b[0;34m.\u001b[0m\u001b[0mset_title\u001b[0m\u001b[0;34m(\u001b[0m\u001b[0;34m'Average Number of Artists Appearing in the Hot 100 by Year'\u001b[0m\u001b[0;34m,\u001b[0m    \u001b[0mfontsize\u001b[0m\u001b[0;34m=\u001b[0m\u001b[0;36m22\u001b[0m\u001b[0;34m,\u001b[0m \u001b[0my\u001b[0m\u001b[0;34m=\u001b[0m\u001b[0;36m1.05\u001b[0m\u001b[0;34m)\u001b[0m\u001b[0;34m\u001b[0m\u001b[0m\n\u001b[1;32m      3\u001b[0m \u001b[0;34m\u001b[0m\u001b[0m\n\u001b[1;32m      4\u001b[0m \u001b[0mplt\u001b[0m\u001b[0;34m.\u001b[0m\u001b[0mxlabel\u001b[0m\u001b[0;34m(\u001b[0m\u001b[0;34m'Year'\u001b[0m\u001b[0;34m,\u001b[0m \u001b[0mfontsize\u001b[0m\u001b[0;34m=\u001b[0m\u001b[0;36m18\u001b[0m\u001b[0;34m)\u001b[0m\u001b[0;34m\u001b[0m\u001b[0m\n\u001b[1;32m      5\u001b[0m \u001b[0mplt\u001b[0m\u001b[0;34m.\u001b[0m\u001b[0mylabel\u001b[0m\u001b[0;34m(\u001b[0m\u001b[0;34m'Number of Artists'\u001b[0m\u001b[0;34m,\u001b[0m \u001b[0mfontsize\u001b[0m\u001b[0;34m=\u001b[0m\u001b[0;36m18\u001b[0m\u001b[0;34m)\u001b[0m\u001b[0;34m\u001b[0m\u001b[0m\n",
      "\u001b[0;31mNameError\u001b[0m: name 'df' is not defined"
     ]
    }
   ],
   "source": []
  }
 ],
 "metadata": {
  "anaconda-cloud": {},
  "kernelspec": {
   "display_name": "Python [Root]",
   "language": "python",
   "name": "Python [Root]"
  },
  "language_info": {
   "codemirror_mode": {
    "name": "ipython",
    "version": 2
   },
   "file_extension": ".py",
   "mimetype": "text/x-python",
   "name": "python",
   "nbconvert_exporter": "python",
   "pygments_lexer": "ipython2",
   "version": "2.7.12"
  }
 },
 "nbformat": 4,
 "nbformat_minor": 0
}
