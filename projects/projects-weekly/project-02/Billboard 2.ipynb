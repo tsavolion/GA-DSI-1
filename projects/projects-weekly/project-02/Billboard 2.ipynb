{
 "cells": [
  {
   "cell_type": "markdown",
   "metadata": {},
   "source": [
    "GA-DSI Weekly Project 2: Billboard"
   ]
  },
  {
   "cell_type": "code",
   "execution_count": 1,
   "metadata": {
    "collapsed": false
   },
   "outputs": [
    {
     "ename": "IOError",
     "evalue": "[Errno 2] No such file or directory: '/Users/EKandTower/Dropbox/GA-DSI/all_billboard_data.txt'",
     "output_type": "error",
     "traceback": [
      "\u001b[1;31m\u001b[0m",
      "\u001b[1;31mIOError\u001b[0mTraceback (most recent call last)",
      "\u001b[1;32m<ipython-input-1-7c4176fe49df>\u001b[0m in \u001b[0;36m<module>\u001b[1;34m()\u001b[0m\n\u001b[0;32m     12\u001b[0m \u001b[1;33m\u001b[0m\u001b[0m\n\u001b[0;32m     13\u001b[0m \u001b[1;31m# parsing | delimiter\u001b[0m\u001b[1;33m\u001b[0m\u001b[1;33m\u001b[0m\u001b[0m\n\u001b[1;32m---> 14\u001b[1;33m \u001b[0mf\u001b[0m \u001b[1;33m=\u001b[0m \u001b[0mopen\u001b[0m\u001b[1;33m(\u001b[0m\u001b[1;34m\"/Users/EKandTower/Dropbox/GA-DSI/all_billboard_data.txt\"\u001b[0m\u001b[1;33m,\u001b[0m \u001b[1;34m\"rb\"\u001b[0m\u001b[1;33m)\u001b[0m\u001b[1;33m\u001b[0m\u001b[0m\n\u001b[0m\u001b[0;32m     15\u001b[0m \u001b[0mreaderpipe\u001b[0m \u001b[1;33m=\u001b[0m \u001b[0mcsv\u001b[0m\u001b[1;33m.\u001b[0m\u001b[0mreader\u001b[0m\u001b[1;33m(\u001b[0m\u001b[0mf\u001b[0m\u001b[1;33m,\u001b[0m \u001b[0mdelimiter\u001b[0m \u001b[1;33m=\u001b[0m \u001b[1;34m\"|\"\u001b[0m\u001b[1;33m)\u001b[0m\u001b[1;33m\u001b[0m\u001b[0m\n\u001b[0;32m     16\u001b[0m \u001b[1;32mfor\u001b[0m \u001b[0mrow\u001b[0m \u001b[1;32min\u001b[0m \u001b[0mreaderpipe\u001b[0m\u001b[1;33m:\u001b[0m\u001b[1;33m\u001b[0m\u001b[0m\n",
      "\u001b[1;31mIOError\u001b[0m: [Errno 2] No such file or directory: '/Users/EKandTower/Dropbox/GA-DSI/all_billboard_data.txt'"
     ]
    }
   ],
   "source": [
    "import numpy as np\n",
    "import scipy as sp\n",
    "import pandas as pd\n",
    "import csv\n",
    "\n",
    "# Below code drawn from http://stackoverflow.com/questions/1366775/ \\\n",
    "#      how-to-convert-tab-separated-pipe-separated-to-csv-file-format-in-python\n",
    "\n",
    "# Conversion originally done by passing txt file through Excel\n",
    "\n",
    "BB = []\n",
    "\n",
    "# parsing | delimiter\n",
    "f = open(\"/Users/EKandTower/Dropbox/GA-DSI/all_billboard_data.txt\", \"rb\")\n",
    "readerpipe = csv.reader(f, delimiter = \"|\")\n",
    "for row in readerpipe:\n",
    "    BB.append(row)\n",
    "# f.close()\n",
    "\n",
    "\n",
    "### end quoted code ###\n",
    "\n"
   ]
  },
  {
   "cell_type": "code",
   "execution_count": null,
   "metadata": {
    "collapsed": false
   },
   "outputs": [],
   "source": [
    "# truncate year-month-day code in data to reflect year only\n",
    "for sublist in BB:\n",
    "     sublist[-1] = sublist[-1][:4]\n",
    "\n",
    "# create a dataframe from the information from BB (the txt file)        \n",
    "df = pd.DataFrame.from_records(BB)\n",
    "\n",
    "# reset the headers to be the first list from BB\n",
    "df.columns = (df.iloc[0])\n",
    "df.reindex(df.index.drop(0))\n",
    "df.drop(df.index[[0]], inplace=True)\n",
    "\n",
    "# change column name \"char\" to \"year\"\n",
    "df.columns = ['year' if x=='char' else x for x in df.columns]\n",
    "\n",
    "# change data type for entry postion and overall weeks on chart to numeric.\n",
    "# I didn't change other columns in order to keep the code clean. \n",
    "# I didn't get rid of any columns in case I decided later I wanted something else.\n",
    "df[['entry position', 'overall weeks on chart']] = df[['entry position', 'overall weeks on chart']].apply(pd.to_numeric)\n",
    "\n"
   ]
  },
  {
   "cell_type": "code",
   "execution_count": null,
   "metadata": {
    "collapsed": false
   },
   "outputs": [],
   "source": [
    "# create a pivot table with stats I am most interested in \n",
    "BB_pivot = pd.pivot_table(df, index=['year'][:30], values=['overall weeks on chart','entry position'],\\\n",
    "               aggfunc=[np.mean, np.max, np.min])\n",
    "\n",
    "\n",
    "BB_pivot\n"
   ]
  },
  {
   "cell_type": "code",
   "execution_count": null,
   "metadata": {
    "collapsed": false
   },
   "outputs": [],
   "source": [
    "import seaborn as sns\n",
    "import matplotlib.pyplot as plt\n",
    "plt.style.use('fivethirtyeight')\n",
    "%matplotlib inline\n",
    "\n",
    "\n",
    "# create line graph for max and mean overall number of weeks on the chart\n",
    "# min excluded--no value. Years prior to 1985 excluded.\n",
    "WoCstats= df.groupby('year')['overall weeks on chart'].agg([max, np.mean]);\n",
    "\n",
    "WoCstats.iloc[45:75].plot(figsize=(15,8), fontsize=14).set_title('Overall Number of Weeks on Chart by Year',\\\n",
    "    fontsize=22, y=1.05)\n",
    "plt.xlabel('Year', fontsize=18)\n",
    "plt.ylabel('Weeks on Chart', fontsize=18)\n",
    "\n",
    "# added annotation to make it easier to see when the methodology changes were made and how they impacted the data\n",
    "plt.annotate('1991: Begin Electronic Data Collection', fontsize=14, xy=(6, 34), xytext=(.8, 50.5),\n",
    "             arrowprops=dict(facecolor='g', linewidth=2.0))\n",
    "\n",
    "plt.annotate('1999: Genre expansion / weight of sales cut', fontsize=14, xy=(14, 57), xytext=(9, 35),\n",
    "             arrowprops=dict(facecolor='g', linewidth=2.0))\n",
    "\n",
    "plt.annotate('2005: Electronic transactions included', fontsize=14, xy=(20, 59), xytext=(11.5, 72),\n",
    "             arrowprops=dict(facecolor='g', linewidth=2.0))\n",
    "\n",
    "plt.annotate('2007: Streaming / on demand included', fontsize=14, xy=(22, 63), xytext=(15, 44),\n",
    "             arrowprops=dict(facecolor='g', linewidth=2.0));\n"
   ]
  },
  {
   "cell_type": "code",
   "execution_count": null,
   "metadata": {
    "collapsed": false
   },
   "outputs": [],
   "source": [
    "# create line graph for max, min, and mean entry position on the chart\n",
    "# Min excluded--no value. Years prior to 1985 excluded.\n",
    "WoCstats= df.groupby('year')['entry position'].agg([min, np.mean]);\n",
    "\n",
    "WoCstats.iloc[45:75].plot(figsize=(15,8), fontsize=14).set_title('Average Chart Entry Position by Year',\\\n",
    "    fontsize=22, y=1.05)\n",
    "\n",
    "plt.xlabel('Year', fontsize=18)\n",
    "plt.ylabel('Entry Position', fontsize=18)\n",
    "\n",
    "#because there were interesting changes in both the mean and min I annotated both\n",
    "plt.annotate('1991: Begin Electronic Data Collection', fontsize=14, xy=(6, 16), xytext=(.8, 50.5),\n",
    "             arrowprops=dict(facecolor='g', linewidth=2.0))\n",
    "plt.annotate('1991: Begin Electronic Data Collection', fontsize=14, xy=(6, 80), xytext=(.8, 50.5),\n",
    "             arrowprops=dict(facecolor='g', linewidth=2.0))\n",
    "\n",
    "plt.annotate('1999: Genre expansion / weight of sales cut', fontsize=14, xy=(14, 2), xytext=(9, 35),\n",
    "             arrowprops=dict(facecolor='g', linewidth=2.0))\n",
    "plt.annotate('1999: Genre expansion / weight of sales cut', fontsize=14, xy=(14, 71), xytext=(9, 35),\n",
    "             arrowprops=dict(facecolor='g', linewidth=2.0))\n",
    "\n",
    "plt.annotate('2005: Electronic transactions included', fontsize=14, xy=(20, 82), xytext=(10, 87),\n",
    "             arrowprops=dict(facecolor='g', linewidth=2.0))\n",
    "\n",
    "\n",
    "plt.annotate('2007: Streaming / on demand included', fontsize=14, xy=(22, 80), xytext=(18, 54),\n",
    "             arrowprops=dict(facecolor='g', linewidth=2.0));\n",
    "\n",
    "\n",
    "#inverted Y axis since a 1 on this chart is the best achievable while 100 is the worst.\n",
    "plt.gca().invert_yaxis()"
   ]
  },
  {
   "cell_type": "code",
   "execution_count": null,
   "metadata": {
    "collapsed": false
   },
   "outputs": [],
   "source": [
    "UnArt = df.groupby('year')['artist'].nunique().to_frame()\n",
    "UnArt.iloc[45:75].plot(figsize=(15,8), fontsize=14).set_title('Average Number of Artists Appearing in the Hot 100 by Year',\\\n",
    "    fontsize=22, y=1.05)\n",
    "\n",
    "plt.xlabel('Year', fontsize=18)\n",
    "plt.ylabel('Number of Artists', fontsize=18)\n",
    "plt.annotate('1991: Begin Electronic Data Collection', fontsize=14, xy=(6, 325), xytext=(.8, 350.5),\n",
    "             arrowprops=dict(facecolor='g', linewidth=2.0))\n",
    "\n",
    "plt.annotate('1999: Genre expansion / weight of sales cut', fontsize=14, xy=(14, 310), xytext=(9, 290),\n",
    "             arrowprops=dict(facecolor='g', linewidth=2.0))\n",
    "\n",
    "plt.annotate('2005: Electronic transactions included', fontsize=14, xy=(19.8, 316), xytext=(14.5, 370),\n",
    "             arrowprops=dict(facecolor='g', linewidth=2.0))\n",
    "\n",
    "\n",
    "plt.annotate('2007: Streaming / on demand included', fontsize=14, xy=(22, 330), xytext=(18, 302),\n",
    "             arrowprops=dict(facecolor='g', linewidth=2.0));\n",
    "\n"
   ]
  }
 ],
 "metadata": {
  "anaconda-cloud": {},
  "kernelspec": {
   "display_name": "Python [Root]",
   "language": "python",
   "name": "Python [Root]"
  },
  "language_info": {
   "codemirror_mode": {
    "name": "ipython",
    "version": 2
   },
   "file_extension": ".py",
   "mimetype": "text/x-python",
   "name": "python",
   "nbconvert_exporter": "python",
   "pygments_lexer": "ipython2",
   "version": "2.7.12"
  }
 },
 "nbformat": 4,
 "nbformat_minor": 0
}
