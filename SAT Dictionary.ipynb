{
 "cells": [
  {
   "cell_type": "code",
   "execution_count": 1,
   "metadata": {
    "collapsed": false
   },
   "outputs": [
    {
     "name": "stdout",
     "output_type": "stream",
     "text": [
      "Step 1.3: create data dictionary\n",
      "\n",
      "dictionary created\n"
     ]
    }
   ],
   "source": [
    "print 'Step 1.3: create data dictionary'\n",
    "sat_d = {}\n",
    "print''\n",
    "print 'dictionary created'\n",
    "\n",
    "\n"
   ]
  },
  {
   "cell_type": "code",
   "execution_count": 2,
   "metadata": {
    "collapsed": false
   },
   "outputs": [
    {
     "name": "stdout",
     "output_type": "stream",
     "text": [
      "Step 2.4: Load the data into a list of lists\n",
      "\n",
      "\n",
      "Data loaded\n"
     ]
    }
   ],
   "source": [
    "print 'Step 2.4: Load the data into a list of lists'\n",
    "print''\n",
    "\n",
    "import csv\n",
    "\n",
    "f = open('/Users/EKandTower/Dropbox/GA-DSI/sat_scores.csv','rU')\n",
    "reader = csv.reader(f)\n",
    "\n",
    "sat_l=[]\n",
    "\n",
    "for row in reader:\n",
    "    sat_l.append(row)\n",
    "\n",
    "\n",
    "print''\n",
    "    \n",
    "print 'Data loaded'\n",
    "\n"
   ]
  },
  {
   "cell_type": "code",
   "execution_count": 3,
   "metadata": {
    "collapsed": false
   },
   "outputs": [
    {
     "name": "stdout",
     "output_type": "stream",
     "text": [
      "Step 2.5: Print the data\n",
      "\n",
      "[['State', 'Rate', 'Verbal', 'Math'], ['CT', '82', '509', '510'], ['NJ', '81', '499', '513'], ['MA', '79', '511', '515'], ['NY', '77', '495', '505'], ['NH', '72', '520', '516'], ['RI', '71', '501', '499'], ['PA', '71', '500', '499'], ['VT', '69', '511', '506'], ['ME', '69', '506', '500'], ['VA', '68', '510', '501'], ['DE', '67', '501', '499'], ['MD', '65', '508', '510'], ['NC', '65', '493', '499'], ['GA', '63', '491', '489'], ['IN', '60', '499', '501'], ['SC', '57', '486', '488'], ['DC', '56', '482', '474'], ['OR', '55', '526', '526'], ['FL', '54', '498', '499'], ['WA', '53', '527', '527'], ['TX', '53', '493', '499'], ['HI', '52', '485', '515'], ['AK', '51', '514', '510'], ['CA', '51', '498', '517'], ['AZ', '34', '523', '525'], ['NV', '33', '509', '515'], ['CO', '31', '539', '542'], ['OH', '26', '534', '439'], ['MT', '23', '539', '539'], ['WV', '18', '527', '512'], ['ID', '17', '543', '542'], ['TN', '13', '562', '553'], ['NM', '13', '551', '542'], ['IL', '12', '576', '589'], ['KY', '12', '550', '550'], ['WY', '11', '547', '545'], ['MI', '11', '561', '572'], ['MN', '9', '580', '589'], ['KS', '9', '577', '580'], ['AL', '9', '559', '554'], ['NE', '8', '562', '568'], ['OK', '8', '567', '561'], ['MO', '8', '577', '577'], ['LA', '7', '564', '562'], ['WI', '6', '584', '596'], ['AR', '6', '562', '550'], ['UT', '5', '575', '570'], ['IA', '5', '593', '603'], ['SD', '4', '577', '582'], ['ND', '4', '592', '599'], ['MS', '4', '566', '551'], ['All', '45', '506', '514']]\n"
     ]
    }
   ],
   "source": [
    "print'Step 2.5: Print the data'\n",
    "print''\n",
    "print sat_l\n",
    "\n"
   ]
  },
  {
   "cell_type": "code",
   "execution_count": 4,
   "metadata": {
    "collapsed": false
   },
   "outputs": [
    {
     "name": "stdout",
     "output_type": "stream",
     "text": [
      "Step 2.6: Extract a list of the labels from the data, and remove them from the data\n",
      "\n",
      "The headers are\n",
      "['State', 'Rate', 'Verbal', 'Math']\n",
      "\n",
      "The data without the headers is\n",
      "[['CT', '82', '509', '510'], ['NJ', '81', '499', '513'], ['MA', '79', '511', '515'], ['NY', '77', '495', '505'], ['NH', '72', '520', '516'], ['RI', '71', '501', '499'], ['PA', '71', '500', '499'], ['VT', '69', '511', '506'], ['ME', '69', '506', '500'], ['VA', '68', '510', '501'], ['DE', '67', '501', '499'], ['MD', '65', '508', '510'], ['NC', '65', '493', '499'], ['GA', '63', '491', '489'], ['IN', '60', '499', '501'], ['SC', '57', '486', '488'], ['DC', '56', '482', '474'], ['OR', '55', '526', '526'], ['FL', '54', '498', '499'], ['WA', '53', '527', '527'], ['TX', '53', '493', '499'], ['HI', '52', '485', '515'], ['AK', '51', '514', '510'], ['CA', '51', '498', '517'], ['AZ', '34', '523', '525'], ['NV', '33', '509', '515'], ['CO', '31', '539', '542'], ['OH', '26', '534', '439'], ['MT', '23', '539', '539'], ['WV', '18', '527', '512'], ['ID', '17', '543', '542'], ['TN', '13', '562', '553'], ['NM', '13', '551', '542'], ['IL', '12', '576', '589'], ['KY', '12', '550', '550'], ['WY', '11', '547', '545'], ['MI', '11', '561', '572'], ['MN', '9', '580', '589'], ['KS', '9', '577', '580'], ['AL', '9', '559', '554'], ['NE', '8', '562', '568'], ['OK', '8', '567', '561'], ['MO', '8', '577', '577'], ['LA', '7', '564', '562'], ['WI', '6', '584', '596'], ['AR', '6', '562', '550'], ['UT', '5', '575', '570'], ['IA', '5', '593', '603'], ['SD', '4', '577', '582'], ['ND', '4', '592', '599'], ['MS', '4', '566', '551'], ['All', '45', '506', '514']]\n"
     ]
    }
   ],
   "source": [
    "print'Step 2.6: Extract a list of the labels from the data, and remove them from the data'\n",
    "\n",
    "headers = sat_l[0]\n",
    "\n",
    "print''\n",
    "print'The headers are'\n",
    "\n",
    "print headers\n",
    "\n",
    "print''\n",
    "\n",
    "print'The data without the headers is'\n",
    "\n",
    "sat_l.pop(0)\n",
    "\n",
    "print sat_l\n",
    "\n",
    "    \n"
   ]
  },
  {
   "cell_type": "code",
   "execution_count": 43,
   "metadata": {
    "collapsed": false
   },
   "outputs": [
    {
     "name": "stdout",
     "output_type": "stream",
     "text": [
      "Step 2.7: Create a list of State names extracted from the data. \n",
      "\n",
      "\n",
      "['NJ', 'MA', 'NY', 'NH', 'RI', 'PA', 'VT', 'ME', 'VA', 'DE', 'MD', 'NC', 'GA', 'IN', 'SC', 'DC', 'OR', 'FL', 'WA', 'TX', 'HI', 'AK', 'CA', 'AZ', 'NV', 'CO', 'OH', 'MT', 'WV', 'ID', 'TN', 'NM', 'IL', 'KY', 'WY', 'MI', 'MN', 'KS', 'AL', 'NE', 'OK', 'MO', 'LA', 'WI', 'AR', 'UT', 'IA', 'SD', 'ND', 'MS', 'All']\n"
     ]
    }
   ],
   "source": [
    "print'Step 2.7: Create a list of State names extracted from the data. '\n",
    "\n",
    "sat_d = {}\n",
    "import csv\n",
    "\n",
    "f = open('/Users/EKandTower/Dropbox/GA-DSI/sat_scores.csv','rU')\n",
    "\n",
    "reader = csv.reader(f)\n",
    "headers = [next(reader, None)]\n",
    "\n",
    "print''\n",
    "print''\n",
    "\n",
    "for row in reader:\n",
    "    state_list = [item[0] for item in reader]\n",
    "    print state_list\n"
   ]
  },
  {
   "cell_type": "code",
   "execution_count": 6,
   "metadata": {
    "collapsed": false
   },
   "outputs": [
    {
     "name": "stdout",
     "output_type": "stream",
     "text": [
      "Step 2.8: Print the types of each column\n",
      "<type 'str'>\n",
      "<type 'str'>\n",
      "<type 'str'>\n",
      "<type 'str'>\n"
     ]
    }
   ],
   "source": [
    "print'Step 2.8: Print the types of each column'\n",
    "print type(sat_l[1][0])\n",
    "print type(sat_l[1][1])\n",
    "print type(sat_l[1][2])\n",
    "print type(sat_l[1][3])"
   ]
  },
  {
   "cell_type": "code",
   "execution_count": 7,
   "metadata": {
    "collapsed": false
   },
   "outputs": [
    {
     "name": "stdout",
     "output_type": "stream",
     "text": [
      "Step 2.9: Do any types need to be reassigned?\n",
      "A: Yes, Rate, Verbal, and Math columns should be changed to int\n"
     ]
    },
    {
     "data": {
      "text/plain": [
       "rec.array([('CT', 82, 509, 510), ('NJ', 81, 499, 513), ('MA', 79, 511, 515),\n",
       " ('NY', 77, 495, 505), ('NH', 72, 520, 516), ('RI', 71, 501, 499),\n",
       " ('PA', 71, 500, 499), ('VT', 69, 511, 506), ('ME', 69, 506, 500),\n",
       " ('VA', 68, 510, 501), ('DE', 67, 501, 499), ('MD', 65, 508, 510),\n",
       " ('NC', 65, 493, 499), ('GA', 63, 491, 489), ('IN', 60, 499, 501),\n",
       " ('SC', 57, 486, 488), ('DC', 56, 482, 474), ('OR', 55, 526, 526),\n",
       " ('FL', 54, 498, 499), ('WA', 53, 527, 527), ('TX', 53, 493, 499),\n",
       " ('HI', 52, 485, 515), ('AK', 51, 514, 510), ('CA', 51, 498, 517),\n",
       " ('AZ', 34, 523, 525), ('NV', 33, 509, 515), ('CO', 31, 539, 542),\n",
       " ('OH', 26, 534, 439), ('MT', 23, 539, 539), ('WV', 18, 527, 512),\n",
       " ('ID', 17, 543, 542), ('TN', 13, 562, 553), ('NM', 13, 551, 542),\n",
       " ('IL', 12, 576, 589), ('KY', 12, 550, 550), ('WY', 11, 547, 545),\n",
       " ('MI', 11, 561, 572), ('MN', 9, 580, 589), ('KS', 9, 577, 580),\n",
       " ('AL', 9, 559, 554), ('NE', 8, 562, 568), ('OK', 8, 567, 561),\n",
       " ('MO', 8, 577, 577), ('LA', 7, 564, 562), ('WI', 6, 584, 596),\n",
       " ('AR', 6, 562, 550), ('UT', 5, 575, 570), ('IA', 5, 593, 603),\n",
       " ('SD', 4, 577, 582), ('ND', 4, 592, 599), ('MS', 4, 566, 551),\n",
       " ('All', 45, 506, 514)], \n",
       "          dtype=[('state', 'S3'), ('rate', '<i8'), ('verbal', '<i8'), ('math', '<i8')])"
      ]
     },
     "execution_count": 7,
     "metadata": {},
     "output_type": "execute_result"
    }
   ],
   "source": [
    "print'Step 2.9: Do any types need to be reassigned?'\n",
    "\n",
    "print'A: Yes, Rate, Verbal, and Math columns should be changed to int'\n",
    "\n",
    "#conversion solution coding found at http://stackoverflow.com/questions/3518778/how-to-read-csv-into-record-array-in-numpy\n",
    "\n",
    "import numpy as np\n",
    "from numpy import recfromcsv\n",
    "\n",
    "sat_lint = np.recfromcsv('/Users/EKandTower/Dropbox/GA-DSI/sat_scores.csv', delimiter=',')\n",
    "\n",
    "sat_lint"
   ]
  },
  {
   "cell_type": "code",
   "execution_count": 9,
   "metadata": {
    "collapsed": false
   },
   "outputs": [
    {
     "name": "stdout",
     "output_type": "stream",
     "text": [
      "Step 2.10: Create a dictionary for each column mapping the State to its respective value for that column.\n",
      "\n",
      "\n",
      "Rate Dictionary\n",
      "{'WA': 53, 'DE': 67, 'DC': 56, 'WI': 6, 'WV': 18, 'HI': 52, 'FL': 54, 'WY': 11, 'NH': 72, 'NJ': 81, 'NM': 13, 'TX': 53, 'LA': 7, 'NC': 65, 'ND': 4, 'NE': 8, 'TN': 13, 'NY': 77, 'PA': 71, 'RI': 71, 'NV': 33, 'VA': 68, 'CO': 31, 'AK': 51, 'AL': 9, 'AR': 6, 'VT': 69, 'IL': 12, 'GA': 63, 'IN': 60, 'IA': 5, 'OK': 8, 'AZ': 34, 'CA': 51, 'ID': 17, 'CT': 82, 'ME': 69, 'MD': 65, 'All': 45, 'MA': 79, 'OH': 26, 'UT': 5, 'MO': 8, 'MN': 9, 'MI': 11, 'KS': 9, 'MT': 23, 'MS': 4, 'SC': 57, 'KY': 12, 'OR': 55, 'SD': 4}\n",
      "\n",
      "\n",
      "Verbal Dictionary\n",
      "{'WA': 527, 'DE': 501, 'DC': 482, 'WI': 584, 'WV': 527, 'HI': 485, 'FL': 498, 'WY': 547, 'NH': 520, 'NJ': 499, 'NM': 551, 'TX': 493, 'LA': 564, 'NC': 493, 'ND': 592, 'NE': 562, 'TN': 562, 'NY': 495, 'PA': 500, 'RI': 501, 'NV': 509, 'VA': 510, 'CO': 539, 'AK': 514, 'AL': 559, 'AR': 562, 'VT': 511, 'IL': 576, 'GA': 491, 'IN': 499, 'IA': 593, 'OK': 567, 'AZ': 523, 'CA': 498, 'ID': 543, 'CT': 509, 'ME': 506, 'MD': 508, 'All': 506, 'MA': 511, 'OH': 534, 'UT': 575, 'MO': 577, 'MN': 580, 'MI': 561, 'KS': 577, 'MT': 539, 'MS': 566, 'SC': 486, 'KY': 550, 'OR': 526, 'SD': 577}\n",
      "\n",
      "\n",
      "Math Dictionary\n",
      "{'WA': 527, 'DE': 499, 'DC': 474, 'WI': 596, 'WV': 512, 'HI': 515, 'FL': 499, 'WY': 545, 'NH': 516, 'NJ': 513, 'NM': 542, 'TX': 499, 'LA': 562, 'NC': 499, 'ND': 599, 'NE': 568, 'TN': 553, 'NY': 505, 'PA': 499, 'RI': 499, 'NV': 515, 'VA': 501, 'CO': 542, 'AK': 510, 'AL': 554, 'AR': 550, 'VT': 506, 'IL': 589, 'GA': 489, 'IN': 501, 'IA': 603, 'OK': 561, 'AZ': 525, 'CA': 517, 'ID': 542, 'CT': 510, 'ME': 500, 'MD': 510, 'All': 514, 'MA': 515, 'OH': 439, 'UT': 570, 'MO': 577, 'MN': 589, 'MI': 572, 'KS': 580, 'MT': 539, 'MS': 551, 'SC': 488, 'KY': 550, 'OR': 526, 'SD': 582}\n",
      "\n",
      "\n",
      "\n",
      "dictionaries created\n"
     ]
    }
   ],
   "source": [
    "print 'Step 2.10: Create a dictionary for each column mapping the State to its respective value for that column.'\n",
    "print''\n",
    "\n",
    "rate_dict = {s[0]: s[1] for s in sat_lint}\n",
    "verbal_dict = {s[0]: s[2] for s in sat_lint}\n",
    "math_dict = {s[0]: s[3] for s in sat_lint}\n",
    "print''\n",
    "print'Rate Dictionary'\n",
    "print rate_dict\n",
    "print''\n",
    "print''\n",
    "print'Verbal Dictionary'\n",
    "print verbal_dict\n",
    "print''\n",
    "print''\n",
    "print'Math Dictionary'\n",
    "print math_dict\n",
    "print''\n",
    "print''\n",
    "print''\n",
    "print'dictionaries created'"
   ]
  },
  {
   "cell_type": "code",
   "execution_count": 10,
   "metadata": {
    "collapsed": false
   },
   "outputs": [
    {
     "name": "stdout",
     "output_type": "stream",
     "text": [
      "Step 2.11: Create a dictionary with the values for each of the numeric columns.\n",
      "\n",
      "{'WA': (53, 527, 527), 'DE': (67, 501, 499), 'DC': (56, 482, 474), 'WI': (6, 584, 596), 'WV': (18, 527, 512), 'HI': (52, 485, 515), 'FL': (54, 498, 499), 'WY': (11, 547, 545), 'NH': (72, 520, 516), 'NJ': (81, 499, 513), 'NM': (13, 551, 542), 'TX': (53, 493, 499), 'LA': (7, 564, 562), 'NC': (65, 493, 499), 'ND': (4, 592, 599), 'NE': (8, 562, 568), 'TN': (13, 562, 553), 'NY': (77, 495, 505), 'PA': (71, 500, 499), 'RI': (71, 501, 499), 'NV': (33, 509, 515), 'VA': (68, 510, 501), 'CO': (31, 539, 542), 'AK': (51, 514, 510), 'AL': (9, 559, 554), 'AR': (6, 562, 550), 'VT': (69, 511, 506), 'IL': (12, 576, 589), 'GA': (63, 491, 489), 'IN': (60, 499, 501), 'IA': (5, 593, 603), 'OK': (8, 567, 561), 'AZ': (34, 523, 525), 'CA': (51, 498, 517), 'ID': (17, 543, 542), 'CT': (82, 509, 510), 'ME': (69, 506, 500), 'MD': (65, 508, 510), 'All': (45, 506, 514), 'MA': (79, 511, 515), 'OH': (26, 534, 439), 'UT': (5, 575, 570), 'MO': (8, 577, 577), 'MN': (9, 580, 589), 'MI': (11, 561, 572), 'KS': (9, 577, 580), 'MT': (23, 539, 539), 'MS': (4, 566, 551), 'SC': (57, 486, 488), 'KY': (12, 550, 550), 'OR': (55, 526, 526), 'SD': (4, 577, 582)}\n",
      "\n",
      "dictionary created\n"
     ]
    }
   ],
   "source": [
    "print 'Step 2.11: Create a dictionary with the values for each of the numeric columns.'\n",
    "print''\n",
    "#sat_dict = {s[0]: s[1:] for s in sat_l}\n",
    "sat_dict = {k: (int(r),int(v),int(m)) for k,r,v,m in sat_l}\n",
    "print sat_dict\n",
    "print''\n",
    "print'dictionary created'"
   ]
  },
  {
   "cell_type": "code",
   "execution_count": 11,
   "metadata": {
    "collapsed": false
   },
   "outputs": [
    {
     "name": "stdout",
     "output_type": "stream",
     "text": [
      "Step 3.12: Print the min and max of each column\n",
      "\n",
      "\n",
      "The Rate minimum is 4 and its maximum is 82\n",
      "\n",
      "The Verbal minimum is 482 and its maximum is 593\n",
      "\n",
      "The Math minimum is 439 and its maximum is 603\n"
     ]
    }
   ],
   "source": [
    "print'Step 3.12: Print the min and max of each column'\n",
    "print''\n",
    "\n",
    "print''\n",
    "\n",
    "# rate_min = (min(values) for values in rate_dict)\n",
    "# rate_min = min(rate_dict[0])\n",
    "\n",
    "rate_min = min((rate_dict.values()))\n",
    "rate_max = max((rate_dict.values()))\n",
    "\n",
    "verbal_min = min((verbal_dict.values()))\n",
    "verbal_max = max((verbal_dict.values()))\n",
    "\n",
    "math_min = min((math_dict.values()))\n",
    "math_max = max((math_dict.values()))\n",
    "a = \"The Rate minimum is %s and its maximum is %s\" % (rate_min, rate_max)\n",
    "b = \"The Verbal minimum is %s and its maximum is %s\" % (verbal_min, verbal_max)\n",
    "c = \"The Math minimum is %s and its maximum is %s\" % (math_min, math_max)\n",
    "\n",
    "print a\n",
    "print ''\n",
    "print b\n",
    "print''\n",
    "print c\n"
   ]
  },
  {
   "cell_type": "code",
   "execution_count": 96,
   "metadata": {
    "collapsed": false
   },
   "outputs": [
    {
     "name": "stdout",
     "output_type": "stream",
     "text": [
      "Step 3.13 Write a function using only list comprehensions, no loops, to compute Standard Deviation. Print the Standard Deviation of each numeric column.\n",
      "\n",
      "below is the standard deviation for the rates\n",
      "27.0379964945\n"
     ]
    }
   ],
   "source": [
    "print \"Step 3.13 Write a function using only list comprehensions, no loops, to compute Standard Deviation\\\n",
    ". Print the Standard Deviation of each numeric column.\"\n",
    "print ''\n",
    "\n",
    "sat_d = {}\n",
    "import csv\n",
    "\n",
    "f = open('/Users/EKandTower/Dropbox/GA-DSI/sat_scores.csv','rU')\n",
    "\n",
    "reader = csv.reader(f)\n",
    "\n",
    "\n",
    "\n",
    "for item in reader:\n",
    "    rate_list = [float(item[1]) for item in reader]\n",
    "\n",
    "# print rate_list\n",
    "    \n",
    "for item in reader:\n",
    "    verbal_list = [float(item[2]) for item in reader]\n",
    "\n",
    "# print verbal_list\n",
    "    \n",
    "for item in reader:    \n",
    "    math_list = [float(item[3]) for item in reader]\n",
    "\n",
    "# print math_list    \n",
    "\n",
    "\n",
    "### here's where I started to try to figure out how to get this into a list comprehension\n",
    "# def sdev(l):\n",
    "#     ((sumlist + v) for v in l)\n",
    "#     return sdev\n",
    "\n",
    "# print sdev(rate_list)\n",
    "\n",
    "#### and there's when I realized that I still had half the project to finish doing\n",
    "    \n",
    "\n",
    "sumlist = 0\n",
    "     \n",
    "for v in rate_list:\n",
    "    sumlist = sumlist + v\n",
    "    \n",
    "mean = sumlist/len(rate_dict)\n",
    "\n",
    "\n",
    "sum_sqrs = 0\n",
    "for v in rate_list:\n",
    "    sum_sqrs = sum_sqrs + (v-mean)**2\n",
    "\n",
    "  \n",
    "standev = (sum_sqrs/len(rate_list))**.5\n",
    "    \n",
    "print 'below is the standard deviation for the rates'\n",
    "print standev"
   ]
  },
  {
   "cell_type": "code",
   "execution_count": 60,
   "metadata": {
    "collapsed": false
   },
   "outputs": [
    {
     "name": "stdout",
     "output_type": "stream",
     "text": [
      "[82, 81, 79, 77, 72, 71, 71, 69, 69, 68, 67, 65, 65, 63, 60, 57, 56, 55, 54, 53, 53, 52, 51, 51, 34, 33, 31, 26, 23, 18, 17, 13, 13, 12, 12, 11, 11, 9, 9, 9, 8, 8, 8, 7, 6, 6, 5, 5, 4, 4, 4, 45]\n"
     ]
    }
   ],
   "source": [
    "\n",
    "sat_d = {}\n",
    "import csv\n",
    "\n",
    "f = open('/Users/EKandTower/Dropbox/GA-DSI/sat_scores.csv','rU')\n",
    "\n",
    "reader = csv.reader(f)\n",
    "\n",
    "\n",
    "for row in reader:\n",
    "    rate_list = [int(item[1]) for item in reader]\n",
    "#    T2 = [[int(column) for column in row] for row in T1]\n",
    "    \n",
    "    print rate_list"
   ]
  },
  {
   "cell_type": "code",
   "execution_count": 12,
   "metadata": {
    "collapsed": false
   },
   "outputs": [
    {
     "name": "stdout",
     "output_type": "stream",
     "text": [
      "Step 3.13 Write a function using only list comprehensions, no loops, to compute Standard Deviation. Print the Standard Deviation of each numeric column.\n",
      "\n"
     ]
    },
    {
     "ename": "ValueError",
     "evalue": "cannot set an array element with a sequence",
     "output_type": "error",
     "traceback": [
      "\u001b[0;31m---------------------------------------------------------------------------\u001b[0m",
      "\u001b[0;31mValueError\u001b[0m                                Traceback (most recent call last)",
      "\u001b[0;32m<ipython-input-12-358bb8f52dc0>\u001b[0m in \u001b[0;36m<module>\u001b[0;34m()\u001b[0m\n\u001b[1;32m      7\u001b[0m \u001b[0;34m\u001b[0m\u001b[0m\n\u001b[1;32m      8\u001b[0m \u001b[0;32mfor\u001b[0m \u001b[0mv\u001b[0m \u001b[0;32min\u001b[0m \u001b[0msat_dict\u001b[0m\u001b[0;34m.\u001b[0m\u001b[0mitems\u001b[0m\u001b[0;34m(\u001b[0m\u001b[0;34m)\u001b[0m\u001b[0;34m:\u001b[0m\u001b[0;34m\u001b[0m\u001b[0m\n\u001b[0;32m----> 9\u001b[0;31m     \u001b[0;32mprint\u001b[0m \u001b[0mnp\u001b[0m\u001b[0;34m.\u001b[0m\u001b[0mstd\u001b[0m\u001b[0;34m(\u001b[0m\u001b[0mv\u001b[0m\u001b[0;34m)\u001b[0m\u001b[0;34m\u001b[0m\u001b[0m\n\u001b[0m\u001b[1;32m     10\u001b[0m \u001b[0;34m\u001b[0m\u001b[0m\n\u001b[1;32m     11\u001b[0m \u001b[0;34m\u001b[0m\u001b[0m\n",
      "\u001b[0;32m/Users/EKandTower/anaconda/lib/python2.7/site-packages/numpy/core/fromnumeric.pyc\u001b[0m in \u001b[0;36mstd\u001b[0;34m(a, axis, dtype, out, ddof, keepdims)\u001b[0m\n\u001b[1;32m   2990\u001b[0m \u001b[0;34m\u001b[0m\u001b[0m\n\u001b[1;32m   2991\u001b[0m     return _methods._std(a, axis=axis, dtype=dtype, out=out, ddof=ddof,\n\u001b[0;32m-> 2992\u001b[0;31m                          keepdims=keepdims)\n\u001b[0m\u001b[1;32m   2993\u001b[0m \u001b[0;34m\u001b[0m\u001b[0m\n\u001b[1;32m   2994\u001b[0m \u001b[0;34m\u001b[0m\u001b[0m\n",
      "\u001b[0;32m/Users/EKandTower/anaconda/lib/python2.7/site-packages/numpy/core/_methods.pyc\u001b[0m in \u001b[0;36m_std\u001b[0;34m(a, axis, dtype, out, ddof, keepdims)\u001b[0m\n\u001b[1;32m    122\u001b[0m \u001b[0;32mdef\u001b[0m \u001b[0m_std\u001b[0m\u001b[0;34m(\u001b[0m\u001b[0ma\u001b[0m\u001b[0;34m,\u001b[0m \u001b[0maxis\u001b[0m\u001b[0;34m=\u001b[0m\u001b[0mNone\u001b[0m\u001b[0;34m,\u001b[0m \u001b[0mdtype\u001b[0m\u001b[0;34m=\u001b[0m\u001b[0mNone\u001b[0m\u001b[0;34m,\u001b[0m \u001b[0mout\u001b[0m\u001b[0;34m=\u001b[0m\u001b[0mNone\u001b[0m\u001b[0;34m,\u001b[0m \u001b[0mddof\u001b[0m\u001b[0;34m=\u001b[0m\u001b[0;36m0\u001b[0m\u001b[0;34m,\u001b[0m \u001b[0mkeepdims\u001b[0m\u001b[0;34m=\u001b[0m\u001b[0mFalse\u001b[0m\u001b[0;34m)\u001b[0m\u001b[0;34m:\u001b[0m\u001b[0;34m\u001b[0m\u001b[0m\n\u001b[1;32m    123\u001b[0m     ret = _var(a, axis=axis, dtype=dtype, out=out, ddof=ddof,\n\u001b[0;32m--> 124\u001b[0;31m                keepdims=keepdims)\n\u001b[0m\u001b[1;32m    125\u001b[0m \u001b[0;34m\u001b[0m\u001b[0m\n\u001b[1;32m    126\u001b[0m     \u001b[0;32mif\u001b[0m \u001b[0misinstance\u001b[0m\u001b[0;34m(\u001b[0m\u001b[0mret\u001b[0m\u001b[0;34m,\u001b[0m \u001b[0mmu\u001b[0m\u001b[0;34m.\u001b[0m\u001b[0mndarray\u001b[0m\u001b[0;34m)\u001b[0m\u001b[0;34m:\u001b[0m\u001b[0;34m\u001b[0m\u001b[0m\n",
      "\u001b[0;32m/Users/EKandTower/anaconda/lib/python2.7/site-packages/numpy/core/_methods.pyc\u001b[0m in \u001b[0;36m_var\u001b[0;34m(a, axis, dtype, out, ddof, keepdims)\u001b[0m\n\u001b[1;32m     75\u001b[0m \u001b[0;34m\u001b[0m\u001b[0m\n\u001b[1;32m     76\u001b[0m \u001b[0;32mdef\u001b[0m \u001b[0m_var\u001b[0m\u001b[0;34m(\u001b[0m\u001b[0ma\u001b[0m\u001b[0;34m,\u001b[0m \u001b[0maxis\u001b[0m\u001b[0;34m=\u001b[0m\u001b[0mNone\u001b[0m\u001b[0;34m,\u001b[0m \u001b[0mdtype\u001b[0m\u001b[0;34m=\u001b[0m\u001b[0mNone\u001b[0m\u001b[0;34m,\u001b[0m \u001b[0mout\u001b[0m\u001b[0;34m=\u001b[0m\u001b[0mNone\u001b[0m\u001b[0;34m,\u001b[0m \u001b[0mddof\u001b[0m\u001b[0;34m=\u001b[0m\u001b[0;36m0\u001b[0m\u001b[0;34m,\u001b[0m \u001b[0mkeepdims\u001b[0m\u001b[0;34m=\u001b[0m\u001b[0mFalse\u001b[0m\u001b[0;34m)\u001b[0m\u001b[0;34m:\u001b[0m\u001b[0;34m\u001b[0m\u001b[0m\n\u001b[0;32m---> 77\u001b[0;31m     \u001b[0marr\u001b[0m \u001b[0;34m=\u001b[0m \u001b[0masanyarray\u001b[0m\u001b[0;34m(\u001b[0m\u001b[0ma\u001b[0m\u001b[0;34m)\u001b[0m\u001b[0;34m\u001b[0m\u001b[0m\n\u001b[0m\u001b[1;32m     78\u001b[0m \u001b[0;34m\u001b[0m\u001b[0m\n\u001b[1;32m     79\u001b[0m     \u001b[0mrcount\u001b[0m \u001b[0;34m=\u001b[0m \u001b[0m_count_reduce_items\u001b[0m\u001b[0;34m(\u001b[0m\u001b[0marr\u001b[0m\u001b[0;34m,\u001b[0m \u001b[0maxis\u001b[0m\u001b[0;34m)\u001b[0m\u001b[0;34m\u001b[0m\u001b[0m\n",
      "\u001b[0;32m/Users/EKandTower/anaconda/lib/python2.7/site-packages/numpy/core/numeric.pyc\u001b[0m in \u001b[0;36masanyarray\u001b[0;34m(a, dtype, order)\u001b[0m\n\u001b[1;32m    531\u001b[0m \u001b[0;34m\u001b[0m\u001b[0m\n\u001b[1;32m    532\u001b[0m     \"\"\"\n\u001b[0;32m--> 533\u001b[0;31m     \u001b[0;32mreturn\u001b[0m \u001b[0marray\u001b[0m\u001b[0;34m(\u001b[0m\u001b[0ma\u001b[0m\u001b[0;34m,\u001b[0m \u001b[0mdtype\u001b[0m\u001b[0;34m,\u001b[0m \u001b[0mcopy\u001b[0m\u001b[0;34m=\u001b[0m\u001b[0mFalse\u001b[0m\u001b[0;34m,\u001b[0m \u001b[0morder\u001b[0m\u001b[0;34m=\u001b[0m\u001b[0morder\u001b[0m\u001b[0;34m,\u001b[0m \u001b[0msubok\u001b[0m\u001b[0;34m=\u001b[0m\u001b[0mTrue\u001b[0m\u001b[0;34m)\u001b[0m\u001b[0;34m\u001b[0m\u001b[0m\n\u001b[0m\u001b[1;32m    534\u001b[0m \u001b[0;34m\u001b[0m\u001b[0m\n\u001b[1;32m    535\u001b[0m \u001b[0;32mdef\u001b[0m \u001b[0mascontiguousarray\u001b[0m\u001b[0;34m(\u001b[0m\u001b[0ma\u001b[0m\u001b[0;34m,\u001b[0m \u001b[0mdtype\u001b[0m\u001b[0;34m=\u001b[0m\u001b[0mNone\u001b[0m\u001b[0;34m)\u001b[0m\u001b[0;34m:\u001b[0m\u001b[0;34m\u001b[0m\u001b[0m\n",
      "\u001b[0;31mValueError\u001b[0m: cannot set an array element with a sequence"
     ]
    }
   ],
   "source": [
    "print \"Step 3.13 Write a function using only list comprehensions, no loops, to compute Standard Deviation. Print the Standard Deviation of each numeric column.\"\n",
    "print ''\n",
    "\n",
    "\n",
    "# std = np.std(sat_dict.values())\n",
    "math_std = np.std((math_dict.values()))\n",
    "\n",
    "for v in sat_dict.items():\n",
    "    print np.std(v)\n",
    "\n",
    "\n",
    "print math_std\n",
    "\n",
    "#for [1:3] in sat_dict:\n",
    "#    sat_std = np.std(r,v,m)\n",
    "#    print sat_std\n",
    "\n",
    "#for values(1,2,3) in sat_dict:\n",
    "#    print np.std((sat_dict.values()))\n",
    "    \n",
    "#bob = np.std((rate_dict.values()))\n",
    "\n",
    "# sat_std = (np.std() for [2] in sat_dict.values())\n",
    "\n",
    "#bob\n",
    "# sat_std"
   ]
  },
  {
   "cell_type": "code",
   "execution_count": null,
   "metadata": {
    "collapsed": false
   },
   "outputs": [],
   "source": [
    ":\n",
    "import matplotlib.pyplot as plt\n",
    "%matplotlib inline\n",
    "\n",
    "fig, ax = plt.subplots()\n",
    "\n",
    "states = {'NY': 25, 'NJ': 10, 'NE': 15, 'NH': 7}\n",
    "\n",
    "x = range(len(states))\n",
    "y = states.values()\n",
    "\n",
    "plt.bar(x, y)"
   ]
  },
  {
   "cell_type": "code",
   "execution_count": null,
   "metadata": {
    "collapsed": false
   },
   "outputs": [],
   "source": [
    "print 'hi a'\n",
    "\n",
    ":\n",
    "import matplotlib.pyplot as plt\n",
    "%matplotlib inline\n",
    "\n",
    "fig, ax = plt.subplots()\n",
    "\n",
    "states = {'NY': 25, 'NJ': 10, 'NE': 15, 'NH': 7}\n",
    "\n",
    "x = range(len(states))\n",
    "y = states.values()\n",
    "\n",
    "plt.bar(x, y)"
   ]
  },
  {
   "cell_type": "code",
   "execution_count": null,
   "metadata": {
    "collapsed": true
   },
   "outputs": [],
   "source": [
    "print 'huh'"
   ]
  }
 ],
 "metadata": {
  "anaconda-cloud": {},
  "kernelspec": {
   "display_name": "Python [Root]",
   "language": "python",
   "name": "Python [Root]"
  }
 },
 "nbformat": 4,
 "nbformat_minor": 0
}
